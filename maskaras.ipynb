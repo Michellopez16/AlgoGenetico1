{
 "cells": [
  {
   "cell_type": "code",
   "execution_count": 1,
   "metadata": {},
   "outputs": [],
   "source": [
    "import numpy as np"
   ]
  },
  {
   "cell_type": "code",
   "execution_count": 2,
   "metadata": {},
   "outputs": [
    {
     "data": {
      "text/plain": [
       "('0111', '0010')"
      ]
     },
     "execution_count": 2,
     "metadata": {},
     "output_type": "execute_result"
    }
   ],
   "source": [
    "a = 7\n",
    "b = 2\n",
    "np.binary_repr(a, width=4),np.binary_repr(b, width=4)"
   ]
  },
  {
   "cell_type": "code",
   "execution_count": 3,
   "metadata": {},
   "outputs": [
    {
     "name": "stdout",
     "output_type": "stream",
     "text": [
      "0111\n",
      "0010\n",
      "----\n",
      "0010\n",
      "0111\n",
      "0101\n",
      "----\n",
      "0101\n",
      "0000\n",
      "----\n",
      "00011100\n",
      "01110000\n",
      "----\n",
      "00000001\n",
      "00000000\n"
     ]
    }
   ],
   "source": [
    "print( np.binary_repr(a, width=4),np.binary_repr(b, width=4),sep='\\n' )\n",
    "print(\"-\"*4)\n",
    "print(np.binary_repr(a & b, width=4))\n",
    "print(np.binary_repr(a | b, width=4))\n",
    "print(np.binary_repr(a ^ b, width=4))\n",
    "print(\"-\"*4)\n",
    "print(np.binary_repr(a & ~b, width=4))\n",
    "print(np.binary_repr(~a & b, width=4))\n",
    "print(\"-\"*4)\n",
    "print(np.binary_repr(a << 2 , width=8))\n",
    "print(np.binary_repr(a << 4 , width=8))\n",
    "print(\"-\"*4)\n",
    "print(np.binary_repr(a >> 2 , width=8))\n",
    "print(np.binary_repr(a >> 4 , width=8))"
   ]
  },
  {
   "cell_type": "code",
   "execution_count": 8,
   "metadata": {},
   "outputs": [
    {
     "name": "stdout",
     "output_type": "stream",
     "text": [
      "00111\n",
      "00010\n",
      "----\n",
      "Masks\n",
      "10000\n",
      "01111\n",
      "********\n",
      "ab: 00010\n",
      "ba: 00111\n"
     ]
    }
   ],
   "source": [
    "a = 7\n",
    "b = 2\n",
    "nb = 5\n",
    "\n",
    "#valor_de_alla = 1\n",
    "#m=nb-valor_de_alla\n",
    "m = 4-0 \n",
    "print( np.binary_repr(a, width=nb),np.binary_repr(b, width=nb),sep='\\n' )\n",
    "print(\"-\"*4)\n",
    "\n",
    "#print(\"Mask 12,3\", np.binary_repr(12, width=nb),np.binary_repr(3, width=nb),sep='\\n' )\n",
    "\n",
    "\n",
    "mask_a= (-1 << m)\n",
    "mask_b= ~(-1 << m) # ~mask_a\n",
    "\n",
    "print(\"Masks\", np.binary_repr(mask_a, width=nb),np.binary_repr(mask_b, width=nb),sep='\\n' )\n",
    "\n",
    "\n",
    "print(\"*\"*8)\n",
    "print (\"ab:\" ,np.binary_repr( (a & mask_a) | (b & mask_b)  , width=nb))\n",
    "print (\"ba:\" ,np.binary_repr( (b & mask_a) | (a & mask_b)  , width=nb))"
   ]
  },
  {
   "cell_type": "code",
   "execution_count": 9,
   "metadata": {},
   "outputs": [
    {
     "name": "stdout",
     "output_type": "stream",
     "text": [
      "----Papas----\n",
      "0111\n",
      "0010\n",
      "----Hijos----\n",
      "0010\n",
      "0111\n",
      "2 7\n"
     ]
    }
   ],
   "source": [
    "a = 7\n",
    "b = 2\n",
    "valor_de_alla = 1\n",
    "m=4-valor_de_alla\n",
    "mask_a= (-1 << m)\n",
    "mask_b= ~(-1 << m) \n",
    "\n",
    "ab = (a & mask_a) | (b & mask_b) \n",
    "ba = (b & mask_a) | (a & mask_b)\n",
    "\n",
    "\n",
    "int_to_bin = lambda x: print( np.binary_repr( x  , width=4) ) \n",
    "\n",
    "print(\"----Papas----\")\n",
    "int_to_bin(a)\n",
    "int_to_bin(b)\n",
    "print(\"----Hijos----\")\n",
    "int_to_bin(ab)\n",
    "int_to_bin(ba)\n",
    "print(ab,ba)"
   ]
  },
  {
   "cell_type": "code",
   "execution_count": null,
   "metadata": {},
   "outputs": [],
   "source": []
  },
  {
   "cell_type": "code",
   "execution_count": 23,
   "metadata": {},
   "outputs": [],
   "source": [
    "n_bits = 4\n",
    "\n",
    "a = np.array([10, 10,  9], dtype=np.uint8) #pop_a\n",
    "b = np.array([ 9,  9, 10], dtype=np.uint8)  #pop_b\n",
    "\n",
    "#np.array([0.59,0.89,0.80])\n",
    "#np.array([1,1,1])\n",
    "valor_de_alla = np.array([1, 2, 2])\n",
    "\n",
    "m=n_bits-valor_de_alla\n",
    "\n",
    "mask_a= (-1 << m)\n",
    "mask_b= ~(-1 << m) \n",
    "\n",
    "ab = (a & mask_a) | (b & mask_b) \n",
    "ba = (b & mask_a) | (a & mask_b)"
   ]
  },
  {
   "cell_type": "code",
   "execution_count": 17,
   "metadata": {},
   "outputs": [
    {
     "data": {
      "text/plain": [
       "(array([ 9,  9, 10], dtype=int32), array([10, 10,  9], dtype=int32))"
      ]
     },
     "execution_count": 17,
     "metadata": {},
     "output_type": "execute_result"
    }
   ],
   "source": [
    "ab,ba"
   ]
  },
  {
   "cell_type": "code",
   "execution_count": 26,
   "metadata": {},
   "outputs": [
    {
     "data": {
      "text/plain": [
       "array([[ 9, 10],\n",
       "       [ 9, 10],\n",
       "       [10,  9]], dtype=int32)"
      ]
     },
     "execution_count": 26,
     "metadata": {},
     "output_type": "execute_result"
    }
   ],
   "source": [
    "np.stack((ab,ba), axis = 1)"
   ]
  },
  {
   "cell_type": "code",
   "execution_count": 20,
   "metadata": {},
   "outputs": [
    {
     "data": {
      "text/plain": [
       "array([ 9, 10,  9, 10, 10,  9], dtype=int32)"
      ]
     },
     "execution_count": 20,
     "metadata": {},
     "output_type": "execute_result"
    }
   ],
   "source": [
    "np.stack((ab,ba), axis = 1).flatten()"
   ]
  },
  {
   "cell_type": "code",
   "execution_count": 16,
   "metadata": {},
   "outputs": [
    {
     "data": {
      "text/plain": [
       "array([[ 9, 10],\n",
       "       [ 9, 10],\n",
       "       [10,  9]], dtype=int32)"
      ]
     },
     "execution_count": 16,
     "metadata": {},
     "output_type": "execute_result"
    }
   ],
   "source": [
    "np.array( list( zip(ab,ba) ) )"
   ]
  },
  {
   "cell_type": "code",
   "execution_count": 18,
   "metadata": {},
   "outputs": [
    {
     "name": "stdout",
     "output_type": "stream",
     "text": [
      "[[ 1  6]\n",
      " [ 2  7]\n",
      " [ 3  8]\n",
      " [ 4  9]\n",
      " [ 5 10]]\n"
     ]
    }
   ],
   "source": [
    "a = np.array([1,2,3,4,5])\n",
    "b = np.array([6,7,8,9,10])\n",
    "\n",
    "c = np.stack((a,b), axis = 1)\n",
    "\n",
    "print(c)"
   ]
  },
  {
   "cell_type": "code",
   "execution_count": 19,
   "metadata": {},
   "outputs": [
    {
     "data": {
      "text/plain": [
       "array([ 1,  6,  2,  7,  3,  8,  4,  9,  5, 10])"
      ]
     },
     "execution_count": 19,
     "metadata": {},
     "output_type": "execute_result"
    }
   ],
   "source": [
    "c.flatten()"
   ]
  },
  {
   "cell_type": "code",
   "execution_count": null,
   "metadata": {},
   "outputs": [],
   "source": []
  }
 ],
 "metadata": {
  "kernelspec": {
   "display_name": "Robotica_2023",
   "language": "python",
   "name": "robotica_2023"
  },
  "language_info": {
   "codemirror_mode": {
    "name": "ipython",
    "version": 3
   },
   "file_extension": ".py",
   "mimetype": "text/x-python",
   "name": "python",
   "nbconvert_exporter": "python",
   "pygments_lexer": "ipython3",
   "version": "3.11.4"
  },
  "orig_nbformat": 4
 },
 "nbformat": 4,
 "nbformat_minor": 2
}
