{
 "cells": [
  {
   "cell_type": "code",
   "execution_count": 1,
   "metadata": {},
   "outputs": [],
   "source": [
    "l_sel= [[5, 0, 1], [4, 2, 1], [5, 1, 0], [1, 5, 4], [0, 1, 4], [2, 1, 0], [1, 5, 3], [3, 2, 5], [0, 5, 3], [0, 4, 5],\n",
    "        [0, 2, 3], [4, 0, 3], [4, 3, 1], [5, 3, 4], [2, 4, 3], [0, 2, 3], [3, 4, 1], [4, 3, 5], [2, 4, 1], [2, 3, 1],\n",
    "        [3, 1, 2], [2, 4, 0], [4, 0, 5], [4, 3, 2]]\n",
    "\n",
    "l_rand= [0.59, 0.96, 0.64, 0.86, 0.44, 0.70, 0.78, 0.96, 0.67, 0.89, 0.46, 0.34, 0.24, 0.80, 0.77, 0.11, 0.91, 0.69,\n",
    "         0.80, 0.50, 0.60, 0.18, 0.55, 0.39, 0.68, 0.21, 0.01, 0.91, 0.78, 0.35, 0.04, 0.49, 0.43, 0.13, 0.82, 0.66,\n",
    "         0.40, 0.50, 0.93, 0.64, 0.75, 0.96, 0.13, 0.30, 0.63, 0.55, 0.46, 0.87, 0.03, 0.59, 0.87, 0.42, 0.34, 0.68,\n",
    "         0.99, 0.32, 0.15, 0.69, 0.40, 0.49, 0.58, 0.48, 0.76, 0.22, 0.73, 0.50, 0.10, 0.21, 0.95, 0.64, 0.41, 0.13,\n",
    "         0.69, 0.48, 0.41, 0.08, 0.34, 0.14, 0.62, 0.71, 0.01, 0.70, 0.05, 0.37, 0.96, 0.26, 0.58, 0.88, 0.95, 0.05,\n",
    "         0.06, 0.51, 0.39, 0.61, 0.45, 0.42, 0.25, 0.69, 0.18, 0.66, 0.72, 0.33, 0.90, 0.78, 0.36, 0.37, 0.91, 0.15, ]\n",
    "\n",
    "l_cross= [1, 2, 2, 1, 2, 2, 2, 1, 1, 1]\n",
    "\n",
    "pop=[[0, 1, 0, 1], [1, 0, 1, 0], [0, 0, 0, 0], [0, 1, 0, 1], [1, 0, 0, 1], [0, 0, 0, 1]]\n",
    "\n",
    "r_cross = 0.9\n",
    "r_mut = 0.25\n",
    "\n",
    "min_value = -1\n",
    "max_value = 1"
   ]
  },
  {
   "cell_type": "code",
   "execution_count": 3,
   "metadata": {},
   "outputs": [],
   "source": [
    "import numpy as np"
   ]
  },
  {
   "cell_type": "code",
   "execution_count": 2,
   "metadata": {},
   "outputs": [],
   "source": [
    "f = lambda x: x**2\n",
    "\n"
   ]
  },
  {
   "cell_type": "code",
   "execution_count": 9,
   "metadata": {},
   "outputs": [
    {
     "data": {
      "text/plain": [
       "('11', '100', '1101', '0011')"
      ]
     },
     "execution_count": 9,
     "metadata": {},
     "output_type": "execute_result"
    }
   ],
   "source": [
    "np.binary_repr(3),np.binary_repr(4),np.binary_repr(-3, width=4),np.binary_repr(3, width=4)"
   ]
  },
  {
   "cell_type": "code",
   "execution_count": 10,
   "metadata": {},
   "outputs": [
    {
     "data": {
      "text/plain": [
       "('0111', '0010')"
      ]
     },
     "execution_count": 10,
     "metadata": {},
     "output_type": "execute_result"
    }
   ],
   "source": [
    "a = 7\n",
    "b = 2\n",
    "np.binary_repr(a, width=4),np.binary_repr(b, width=4)"
   ]
  },
  {
   "cell_type": "code",
   "execution_count": 23,
   "metadata": {},
   "outputs": [
    {
     "name": "stdout",
     "output_type": "stream",
     "text": [
      "0111\n",
      "0010\n",
      "----\n",
      "0010\n",
      "0111\n",
      "0101\n",
      "----\n",
      "0101\n",
      "0000\n",
      "----\n",
      "00011100\n",
      "01110000\n",
      "----\n",
      "00000001\n",
      "00000000\n"
     ]
    }
   ],
   "source": [
    "print( np.binary_repr(a, width=4),np.binary_repr(b, width=4),sep='\\n' )\n",
    "print(\"-\"*4)\n",
    "print(np.binary_repr(a & b, width=4))\n",
    "print(np.binary_repr(a | b, width=4))\n",
    "print(np.binary_repr(a ^ b, width=4))\n",
    "print(\"-\"*4)\n",
    "print(np.binary_repr(a & ~b, width=4))\n",
    "print(np.binary_repr(~a & b, width=4))\n",
    "print(\"-\"*4)\n",
    "print(np.binary_repr(a << 2 , width=8))\n",
    "print(np.binary_repr(a << 4 , width=8))\n",
    "print(\"-\"*4)\n",
    "print(np.binary_repr(a >> 2 , width=8))\n",
    "print(np.binary_repr(a >> 4 , width=8))"
   ]
  },
  {
   "cell_type": "code",
   "execution_count": 25,
   "metadata": {},
   "outputs": [
    {
     "data": {
      "text/plain": [
       "array([ 2,  4, 16])"
      ]
     },
     "execution_count": 25,
     "metadata": {},
     "output_type": "execute_result"
    }
   ],
   "source": [
    "np.bitwise_and(np.array([2,5,255]), np.array([3,14,16]))"
   ]
  },
  {
   "cell_type": "code",
   "execution_count": 26,
   "metadata": {},
   "outputs": [
    {
     "data": {
      "text/plain": [
       "array([ 2,  2,  4, 16])"
      ]
     },
     "execution_count": 26,
     "metadata": {},
     "output_type": "execute_result"
    }
   ],
   "source": [
    "np.array([7,2,5,255]) & np.array([2,3,14,16])"
   ]
  },
  {
   "cell_type": "code",
   "execution_count": 27,
   "metadata": {},
   "outputs": [
    {
     "name": "stdout",
     "output_type": "stream",
     "text": [
      "0010\n"
     ]
    }
   ],
   "source": [
    "print(np.binary_repr(7 & 2, width=4))"
   ]
  },
  {
   "cell_type": "code",
   "execution_count": 28,
   "metadata": {},
   "outputs": [
    {
     "data": {
      "text/plain": [
       "array([  7,   3,  15, 255])"
      ]
     },
     "execution_count": 28,
     "metadata": {},
     "output_type": "execute_result"
    }
   ],
   "source": [
    "np.array([7,2,5,255]) | np.array([2,3,14,16])"
   ]
  },
  {
   "cell_type": "code",
   "execution_count": 29,
   "metadata": {},
   "outputs": [
    {
     "data": {
      "text/plain": [
       "array([      28,       16,    81920, 16711680])"
      ]
     },
     "execution_count": 29,
     "metadata": {},
     "output_type": "execute_result"
    }
   ],
   "source": [
    "np.array([7,2,5,255]) << np.array([2,3,14,16])"
   ]
  },
  {
   "cell_type": "code",
   "execution_count": 31,
   "metadata": {},
   "outputs": [
    {
     "data": {
      "text/plain": [
       "('11100', 28)"
      ]
     },
     "execution_count": 31,
     "metadata": {},
     "output_type": "execute_result"
    }
   ],
   "source": [
    "np.binary_repr( 7 << 2),7 << 2"
   ]
  },
  {
   "cell_type": "code",
   "execution_count": 35,
   "metadata": {},
   "outputs": [
    {
     "data": {
      "text/plain": [
       "([1, 2, 3, 4, 1, 2, 3, 4], list)"
      ]
     },
     "execution_count": 35,
     "metadata": {},
     "output_type": "execute_result"
    }
   ],
   "source": [
    "a = [1,2,3,4]\n",
    "a *2,type(a)"
   ]
  },
  {
   "cell_type": "code",
   "execution_count": 39,
   "metadata": {},
   "outputs": [
    {
     "data": {
      "text/plain": [
       "(array([1, 2, 3, 4]), numpy.ndarray)"
      ]
     },
     "execution_count": 39,
     "metadata": {},
     "output_type": "execute_result"
    }
   ],
   "source": [
    "\n",
    "b= np.array(a)\n",
    "b,type(b)"
   ]
  },
  {
   "cell_type": "code",
   "execution_count": null,
   "metadata": {},
   "outputs": [],
   "source": []
  },
  {
   "cell_type": "code",
   "execution_count": 59,
   "metadata": {},
   "outputs": [],
   "source": [
    "pop=[[0, 1, 0, 1], [1, 0, 1, 0], [0, 0, 0, 0], [0, 1, 0, 1], [1, 0, 0, 1], [0, 0, 0, 1]]"
   ]
  },
  {
   "cell_type": "code",
   "execution_count": 60,
   "metadata": {},
   "outputs": [
    {
     "data": {
      "text/plain": [
       "array([ 90,   5, 145], dtype=uint8)"
      ]
     },
     "execution_count": 60,
     "metadata": {},
     "output_type": "execute_result"
    }
   ],
   "source": [
    "np.packbits(pop)"
   ]
  },
  {
   "cell_type": "code",
   "execution_count": 66,
   "metadata": {},
   "outputs": [
    {
     "data": {
      "text/plain": [
       "([[0, 0, 0, 0, 0, 1, 0, 1],\n",
       "  [0, 0, 0, 0, 1, 0, 1, 0],\n",
       "  [0, 0, 0, 0, 0, 0, 0, 0],\n",
       "  [0, 0, 0, 0, 0, 1, 0, 1],\n",
       "  [0, 0, 0, 0, 1, 0, 0, 1],\n",
       "  [0, 0, 0, 0, 0, 0, 0, 1]],\n",
       " array([ 5, 10,  0,  5,  9,  1], dtype=uint8))"
      ]
     },
     "execution_count": 66,
     "metadata": {},
     "output_type": "execute_result"
    }
   ],
   "source": [
    "\n",
    "b = [0, 0, 0, 0]\n",
    "\n",
    "popn = []\n",
    "for elem in pop:\n",
    "    popn.append(b+elem)\n",
    "popn,np.packbits(popn)"
   ]
  },
  {
   "cell_type": "code",
   "execution_count": null,
   "metadata": {},
   "outputs": [],
   "source": []
  },
  {
   "cell_type": "code",
   "execution_count": 67,
   "metadata": {},
   "outputs": [
    {
     "data": {
      "text/plain": [
       "array([20, 31, 12,  3])"
      ]
     },
     "execution_count": 67,
     "metadata": {},
     "output_type": "execute_result"
    }
   ],
   "source": [
    "choices = [[0, 1, 2, 3], [10, 11, 12, 13],\n",
    "          [20, 21, 22, 23], [30, 31, 32, 33]]\n",
    "np.choose([2, 3, 1, 0], choices)"
   ]
  },
  {
   "cell_type": "code",
   "execution_count": 68,
   "metadata": {},
   "outputs": [
    {
     "data": {
      "text/plain": [
       "array([1, 1, 2, 5])"
      ]
     },
     "execution_count": 68,
     "metadata": {},
     "output_type": "execute_result"
    }
   ],
   "source": [
    "np.choose([0,0,1,4],[1,2,3,4,5])"
   ]
  },
  {
   "cell_type": "code",
   "execution_count": 69,
   "metadata": {},
   "outputs": [
    {
     "data": {
      "text/plain": [
       "[1, 4, 1, 4, 4, 1]"
      ]
     },
     "execution_count": 69,
     "metadata": {},
     "output_type": "execute_result"
    }
   ],
   "source": [
    "[1,4,1,4,4,1]"
   ]
  },
  {
   "cell_type": "code",
   "execution_count": 84,
   "metadata": {},
   "outputs": [
    {
     "name": "stdout",
     "output_type": "stream",
     "text": [
      "1\n",
      "4\n",
      "1\n",
      "4\n",
      "4\n",
      "1\n"
     ]
    }
   ],
   "source": [
    "torneos = [[5, 0, 1], [4, 2, 1], [5, 1, 0], [1, 5, 4], [0, 1, 4], [2, 1, 0]]\n",
    "ind_ganador_torneo = [2, 0, 1, 2, 2, 1]\n",
    "\n",
    "for datos,ind in zip(torneos,ind_ganador_torneo):\n",
    "    print(datos[ind])"
   ]
  },
  {
   "cell_type": "code",
   "execution_count": 88,
   "metadata": {},
   "outputs": [
    {
     "data": {
      "text/plain": [
       "array([1, 5, 0, 1, 1, 0])"
      ]
     },
     "execution_count": 88,
     "metadata": {},
     "output_type": "execute_result"
    }
   ],
   "source": [
    "choices = np.array( [[5, 0, 1], [4, 2, 1], [5, 1, 0], [1, 5, 4], [0, 1, 4], [2, 1, 0]])\n",
    "index_array = np.array( [2, 0, 1, 2, 2, 1] )\n",
    "#np.choose(index_array, choices)\n",
    "np.take(choices,index_array)\n"
   ]
  },
  {
   "cell_type": "code",
   "execution_count": 96,
   "metadata": {},
   "outputs": [
    {
     "data": {
      "text/plain": [
       "array([[2],\n",
       "       [0],\n",
       "       [1],\n",
       "       [2],\n",
       "       [2],\n",
       "       [1]])"
      ]
     },
     "execution_count": 96,
     "metadata": {},
     "output_type": "execute_result"
    }
   ],
   "source": [
    "index_array.reshape( (-1,1) )"
   ]
  },
  {
   "cell_type": "code",
   "execution_count": 97,
   "metadata": {},
   "outputs": [
    {
     "data": {
      "text/plain": [
       "array([[1],\n",
       "       [4],\n",
       "       [1],\n",
       "       [4],\n",
       "       [4],\n",
       "       [1]])"
      ]
     },
     "execution_count": 97,
     "metadata": {},
     "output_type": "execute_result"
    }
   ],
   "source": [
    "np.take_along_axis(choices,index_array.reshape( (-1,1) ),axis=1)"
   ]
  },
  {
   "cell_type": "code",
   "execution_count": 73,
   "metadata": {},
   "outputs": [
    {
     "name": "stdout",
     "output_type": "stream",
     "text": [
      "\u001b[1;31mSignature:\u001b[0m       \u001b[0mnp\u001b[0m\u001b[1;33m.\u001b[0m\u001b[0mtake_along_axis\u001b[0m\u001b[1;33m(\u001b[0m\u001b[0marr\u001b[0m\u001b[1;33m,\u001b[0m \u001b[0mindices\u001b[0m\u001b[1;33m,\u001b[0m \u001b[0maxis\u001b[0m\u001b[1;33m)\u001b[0m\u001b[1;33m\u001b[0m\u001b[1;33m\u001b[0m\u001b[0m\n",
      "\u001b[1;31mCall signature:\u001b[0m  \u001b[0mnp\u001b[0m\u001b[1;33m.\u001b[0m\u001b[0mtake_along_axis\u001b[0m\u001b[1;33m(\u001b[0m\u001b[1;33m*\u001b[0m\u001b[0margs\u001b[0m\u001b[1;33m,\u001b[0m \u001b[1;33m**\u001b[0m\u001b[0mkwargs\u001b[0m\u001b[1;33m)\u001b[0m\u001b[1;33m\u001b[0m\u001b[1;33m\u001b[0m\u001b[0m\n",
      "\u001b[1;31mType:\u001b[0m            _ArrayFunctionDispatcher\n",
      "\u001b[1;31mString form:\u001b[0m     <function take_along_axis at 0x000001D8E8DFF6A0>\n",
      "\u001b[1;31mFile:\u001b[0m            c:\\users\\michel_gpc\\.conda\\envs\\robotica_2023\\lib\\site-packages\\numpy\\lib\\shape_base.py\n",
      "\u001b[1;31mDocstring:\u001b[0m      \n",
      "Take values from the input array by matching 1d index and data slices.\n",
      "\n",
      "This iterates over matching 1d slices oriented along the specified axis in\n",
      "the index and data arrays, and uses the former to look up values in the\n",
      "latter. These slices can be different lengths.\n",
      "\n",
      "Functions returning an index along an axis, like `argsort` and\n",
      "`argpartition`, produce suitable indices for this function.\n",
      "\n",
      ".. versionadded:: 1.15.0\n",
      "\n",
      "Parameters\n",
      "----------\n",
      "arr : ndarray (Ni..., M, Nk...)\n",
      "    Source array\n",
      "indices : ndarray (Ni..., J, Nk...)\n",
      "    Indices to take along each 1d slice of `arr`. This must match the\n",
      "    dimension of arr, but dimensions Ni and Nj only need to broadcast\n",
      "    against `arr`.\n",
      "axis : int\n",
      "    The axis to take 1d slices along. If axis is None, the input array is\n",
      "    treated as if it had first been flattened to 1d, for consistency with\n",
      "    `sort` and `argsort`.\n",
      "\n",
      "Returns\n",
      "-------\n",
      "out: ndarray (Ni..., J, Nk...)\n",
      "    The indexed result.\n",
      "\n",
      "Notes\n",
      "-----\n",
      "This is equivalent to (but faster than) the following use of `ndindex` and\n",
      "`s_`, which sets each of ``ii`` and ``kk`` to a tuple of indices::\n",
      "\n",
      "    Ni, M, Nk = a.shape[:axis], a.shape[axis], a.shape[axis+1:]\n",
      "    J = indices.shape[axis]  # Need not equal M\n",
      "    out = np.empty(Ni + (J,) + Nk)\n",
      "\n",
      "    for ii in ndindex(Ni):\n",
      "        for kk in ndindex(Nk):\n",
      "            a_1d       = a      [ii + s_[:,] + kk]\n",
      "            indices_1d = indices[ii + s_[:,] + kk]\n",
      "            out_1d     = out    [ii + s_[:,] + kk]\n",
      "            for j in range(J):\n",
      "                out_1d[j] = a_1d[indices_1d[j]]\n",
      "\n",
      "Equivalently, eliminating the inner loop, the last two lines would be::\n",
      "\n",
      "            out_1d[:] = a_1d[indices_1d]\n",
      "\n",
      "See Also\n",
      "--------\n",
      "take : Take along an axis, using the same indices for every 1d slice\n",
      "put_along_axis :\n",
      "    Put values into the destination array by matching 1d index and data slices\n",
      "\n",
      "Examples\n",
      "--------\n",
      "\n",
      "For this sample array\n",
      "\n",
      ">>> a = np.array([[10, 30, 20], [60, 40, 50]])\n",
      "\n",
      "We can sort either by using sort directly, or argsort and this function\n",
      "\n",
      ">>> np.sort(a, axis=1)\n",
      "array([[10, 20, 30],\n",
      "       [40, 50, 60]])\n",
      ">>> ai = np.argsort(a, axis=1)\n",
      ">>> ai\n",
      "array([[0, 2, 1],\n",
      "       [1, 2, 0]])\n",
      ">>> np.take_along_axis(a, ai, axis=1)\n",
      "array([[10, 20, 30],\n",
      "       [40, 50, 60]])\n",
      "\n",
      "The same works for max and min, if you maintain the trivial dimension\n",
      "with ``keepdims``:\n",
      "\n",
      ">>> np.max(a, axis=1, keepdims=True)\n",
      "array([[30],\n",
      "       [60]])\n",
      ">>> ai = np.argmax(a, axis=1, keepdims=True)\n",
      ">>> ai\n",
      "array([[1],\n",
      "       [0]])\n",
      ">>> np.take_along_axis(a, ai, axis=1)\n",
      "array([[30],\n",
      "       [60]])\n",
      "\n",
      "If we want to get the max and min at the same time, we can stack the\n",
      "indices first\n",
      "\n",
      ">>> ai_min = np.argmin(a, axis=1, keepdims=True)\n",
      ">>> ai_max = np.argmax(a, axis=1, keepdims=True)\n",
      ">>> ai = np.concatenate([ai_min, ai_max], axis=1)\n",
      ">>> ai\n",
      "array([[0, 1],\n",
      "       [1, 0]])\n",
      ">>> np.take_along_axis(a, ai, axis=1)\n",
      "array([[10, 30],\n",
      "       [40, 60]])\n",
      "\u001b[1;31mClass docstring:\u001b[0m\n",
      "Class to wrap functions with checks for __array_function__ overrides.\n",
      "\n",
      "All arguments are required, and can only be passed by position.\n",
      "\n",
      "Parameters\n",
      "----------\n",
      "dispatcher : function or None\n",
      "    The dispatcher function that returns a single sequence-like object\n",
      "    of all arguments relevant.  It must have the same signature (except\n",
      "    the default values) as the actual implementation.\n",
      "    If ``None``, this is a ``like=`` dispatcher and the\n",
      "    ``_ArrayFunctionDispatcher`` must be called with ``like`` as the\n",
      "    first (additional and positional) argument.\n",
      "implementation : function\n",
      "    Function that implements the operation on NumPy arrays without\n",
      "    overrides.  Arguments passed calling the ``_ArrayFunctionDispatcher``\n",
      "    will be forwarded to this (and the ``dispatcher``) as if using\n",
      "    ``*args, **kwargs``.\n",
      "\n",
      "Attributes\n",
      "----------\n",
      "_implementation : function\n",
      "    The original implementation passed in."
     ]
    }
   ],
   "source": [
    "np.take_along_axis?"
   ]
  },
  {
   "cell_type": "code",
   "execution_count": null,
   "metadata": {},
   "outputs": [],
   "source": []
  },
  {
   "cell_type": "code",
   "execution_count": null,
   "metadata": {},
   "outputs": [],
   "source": []
  },
  {
   "cell_type": "code",
   "execution_count": null,
   "metadata": {},
   "outputs": [],
   "source": []
  },
  {
   "cell_type": "code",
   "execution_count": null,
   "metadata": {},
   "outputs": [],
   "source": []
  },
  {
   "cell_type": "code",
   "execution_count": null,
   "metadata": {},
   "outputs": [],
   "source": []
  },
  {
   "cell_type": "code",
   "execution_count": null,
   "metadata": {},
   "outputs": [],
   "source": []
  }
 ],
 "metadata": {
  "kernelspec": {
   "display_name": "Robotica_2023",
   "language": "python",
   "name": "robotica_2023"
  },
  "language_info": {
   "codemirror_mode": {
    "name": "ipython",
    "version": 3
   },
   "file_extension": ".py",
   "mimetype": "text/x-python",
   "name": "python",
   "nbconvert_exporter": "python",
   "pygments_lexer": "ipython3",
   "version": "3.11.4"
  },
  "orig_nbformat": 4
 },
 "nbformat": 4,
 "nbformat_minor": 2
}
