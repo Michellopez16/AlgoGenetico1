{
 "cells": [
  {
   "cell_type": "code",
   "execution_count": 87,
   "metadata": {},
   "outputs": [],
   "source": [
    "l_sel= [[5, 0, 1], [4, 2, 1], [5, 1, 0], [1, 5, 4], [0, 1, 4], [2, 1, 0], [1, 5, 3], [3, 2, 5], [0, 5, 3], [0, 4, 5],\n",
    "        [0, 2, 3], [4, 0, 3], [4, 3, 1], [5, 3, 4], [2, 4, 3], [0, 2, 3], [3, 4, 1], [4, 3, 5], [2, 4, 1], [2, 3, 1],\n",
    "        [3, 1, 2], [2, 4, 0], [4, 0, 5], [4, 3, 2]]\n",
    "\n",
    "l_rand= [0.59, 0.96, 0.64, 0.86, 0.44, 0.70, 0.78, 0.96, 0.67, 0.89, 0.46, 0.34, 0.24, 0.80, 0.77, 0.11, 0.91, 0.69,\n",
    "         0.80, 0.50, 0.60, 0.18, 0.55, 0.39, 0.68, 0.21, 0.01, 0.91, 0.78, 0.35, 0.04, 0.49, 0.43, 0.13, 0.82, 0.66,\n",
    "         0.40, 0.50, 0.93, 0.64, 0.75, 0.96, 0.13, 0.30, 0.63, 0.55, 0.46, 0.87, 0.03, 0.59, 0.87, 0.42, 0.34, 0.68,\n",
    "         0.99, 0.32, 0.15, 0.69, 0.40, 0.49, 0.58, 0.48, 0.76, 0.22, 0.73, 0.50, 0.10, 0.21, 0.95, 0.64, 0.41, 0.13,\n",
    "         0.69, 0.48, 0.41, 0.08, 0.34, 0.14, 0.62, 0.71, 0.01, 0.70, 0.05, 0.37, 0.96, 0.26, 0.58, 0.88, 0.95, 0.05,\n",
    "         0.06, 0.51, 0.39, 0.61, 0.45, 0.42, 0.25, 0.69, 0.18, 0.66, 0.72, 0.33, 0.90, 0.78, 0.36, 0.37, 0.91, 0.15, ]\n",
    "\n",
    "l_cross= [1, 2, 2, 1, 2, 2, 2, 1, 1, 1]\n",
    "\n",
    "pop=[[0, 1, 0, 1], [1, 0, 1, 0], [0, 0, 0, 0], [0, 1, 0, 1], [1, 0, 0, 1], [0, 0, 0, 1]]\n",
    "\n",
    "r_cross = 0.9\n",
    "r_mut = 0.25\n",
    "\n",
    "min_value = -1\n",
    "max_value = 1\n",
    "\n",
    "n_bits = 4 #bits"
   ]
  },
  {
   "cell_type": "code",
   "execution_count": 2,
   "metadata": {},
   "outputs": [],
   "source": [
    "import numpy as np\n",
    "f = lambda x: x**2"
   ]
  },
  {
   "cell_type": "code",
   "execution_count": 88,
   "metadata": {},
   "outputs": [
    {
     "data": {
      "text/plain": [
       "array([ 5, 10,  0,  5,  9,  1], dtype=uint8)"
      ]
     },
     "execution_count": 88,
     "metadata": {},
     "output_type": "execute_result"
    }
   ],
   "source": [
    "# Codigo para que funcione con su entrada\n",
    "\n",
    "b = [0, 0, 0, 0] # para hacer 8 bits\n",
    "\n",
    "popn = []\n",
    "for elem in pop:\n",
    "    popn.append(b+elem)\n",
    "popn\n",
    "pop_int8 = np.packbits(popn)\n",
    "pop_int8 # -> [-1,1]\n",
    "\n",
    "#pop_int8,len(pop_int8),np.random.randint(0,10,6)"
   ]
  },
  {
   "cell_type": "code",
   "execution_count": 89,
   "metadata": {},
   "outputs": [
    {
     "data": {
      "text/plain": [
       "array([-0.33333333,  0.33333333, -1.        , -0.33333333,  0.2       ,\n",
       "       -0.86666667])"
      ]
     },
     "execution_count": 89,
     "metadata": {},
     "output_type": "execute_result"
    }
   ],
   "source": [
    "def mapping(decimal_values,min_value=-1,max_value=1):\n",
    "    \n",
    "    return min_value + decimal_values*(max_value - min_value)/(2**n_bits-1)\n",
    "\n",
    "decoded_values = mapping(pop_int8)\n",
    "decoded_values"
   ]
  },
  {
   "cell_type": "code",
   "execution_count": 90,
   "metadata": {},
   "outputs": [
    {
     "data": {
      "text/plain": [
       "array([0.11111111, 0.11111111, 1.        , 0.11111111, 0.04      ,\n",
       "       0.75111111])"
      ]
     },
     "execution_count": 90,
     "metadata": {},
     "output_type": "execute_result"
    }
   ],
   "source": [
    "fitnesses = f(decoded_values)\n",
    "fitnesses"
   ]
  },
  {
   "cell_type": "code",
   "execution_count": 91,
   "metadata": {},
   "outputs": [
    {
     "data": {
      "text/plain": [
       "array([[0.75111111, 0.11111111, 0.11111111],\n",
       "       [0.04      , 1.        , 0.11111111],\n",
       "       [0.75111111, 0.11111111, 0.11111111],\n",
       "       [0.11111111, 0.75111111, 0.04      ],\n",
       "       [0.11111111, 0.11111111, 0.04      ],\n",
       "       [1.        , 0.11111111, 0.11111111]])"
      ]
     },
     "execution_count": 91,
     "metadata": {},
     "output_type": "execute_result"
    }
   ],
   "source": [
    "l_sel = [[5, 0, 1], [4, 2, 1], [5, 1, 0], [1, 5, 4], [0, 1, 4], [2, 1, 0], [1, 5, 3], [3, 2, 5], [0, 5, 3], [0, 4, 5], [0, 2, 3], [4, 0, 3], [4, 3, 1], [5, 3, 4], [2, 4, 3], [0, 2, 3], [3, 4, 1], [4, 3, 5], [2, 4, 1], [2, 3, 1], [3, 1, 2], [2, 4, 0], [4, 0, 5], [4, 3, 2]]\n",
    "\n",
    "l_sel_tmp = np.array(l_sel[:6]) # np.random.randint(0,5,(6,3)) sustituir algun dia \n",
    "#l_sel_tmp = np.random.randint(0,5,(6,3))\n",
    "\n",
    "tournaments = np.choose(l_sel_tmp,fitnesses )\n",
    "tournaments"
   ]
  },
  {
   "cell_type": "code",
   "execution_count": 92,
   "metadata": {},
   "outputs": [
    {
     "name": "stdout",
     "output_type": "stream",
     "text": [
      "[0.11111111 0.04       0.11111111 0.04       0.04       0.11111111]\n",
      "[2 0 1 2 2 1]\n"
     ]
    }
   ],
   "source": [
    "min_value = tournaments.min(axis=1)\n",
    "index_array_min_arg = tournaments.argmin(axis=1)\n",
    "\n",
    "print(min_value)\n",
    "print(index_array_min_arg)\n"
   ]
  },
  {
   "cell_type": "code",
   "execution_count": 93,
   "metadata": {},
   "outputs": [
    {
     "name": "stdout",
     "output_type": "stream",
     "text": [
      "1\n",
      "4\n",
      "1\n",
      "4\n",
      "4\n",
      "1\n"
     ]
    }
   ],
   "source": [
    "for datos,ind in zip(l_sel_tmp,index_array_min_arg):\n",
    "    print(datos[ind])"
   ]
  },
  {
   "cell_type": "code",
   "execution_count": 94,
   "metadata": {},
   "outputs": [
    {
     "data": {
      "text/plain": [
       "array([1, 4, 1, 4, 4, 1])"
      ]
     },
     "execution_count": 94,
     "metadata": {},
     "output_type": "execute_result"
    }
   ],
   "source": [
    "ind_pop_int8 = np.take_along_axis(l_sel_tmp,index_array_min_arg.reshape( (-1,1) ),axis=1).reshape( (-1) )\n",
    "ind_pop_int8"
   ]
  },
  {
   "cell_type": "code",
   "execution_count": 95,
   "metadata": {},
   "outputs": [
    {
     "data": {
      "text/plain": [
       "array([10,  9, 10,  9,  9, 10], dtype=uint8)"
      ]
     },
     "execution_count": 95,
     "metadata": {},
     "output_type": "execute_result"
    }
   ],
   "source": [
    "pop_elegida = pop_int8[ind_pop_int8]\n",
    "pop_elegida"
   ]
  },
  {
   "cell_type": "code",
   "execution_count": 96,
   "metadata": {},
   "outputs": [
    {
     "data": {
      "text/plain": [
       "(array([10, 10,  9], dtype=uint8), array([ 9,  9, 10], dtype=uint8))"
      ]
     },
     "execution_count": 96,
     "metadata": {},
     "output_type": "execute_result"
    }
   ],
   "source": [
    "pop_a = pop_elegida[0::2]\n",
    "pop_b = pop_elegida[1::2]\n",
    "pop_a,pop_b"
   ]
  },
  {
   "cell_type": "code",
   "execution_count": 97,
   "metadata": {},
   "outputs": [],
   "source": [
    "l_cross= np.array([1, 2, 2, 1, 2, 2, 2, 1, 1, 1],dtype=np.uint8) # random number\n",
    "\n",
    "l_rand= [0.59, 0.96, 0.64, 0.86, 0.44, 0.70, 0.78, 0.96, 0.67,\n",
    "         0.89, 0.46, 0.34, 0.24, 0.80, 0.77, 0.11, 0.91, 0.69,\n",
    "         0.80, 0.50, 0.60, 0.18, 0.55, 0.39, 0.68, 0.21, 0.01,\n",
    "         0.91, 0.78, 0.35, 0.04, 0.49, 0.43, 0.13, 0.82, 0.66,\n",
    "         0.40, 0.50, 0.93, 0.64, 0.75, 0.96, 0.13, 0.30, 0.63,\n",
    "         0.55, 0.46, 0.87, 0.03, 0.59, 0.87, 0.42, 0.34, 0.68,\n",
    "         0.99, 0.32, 0.15, 0.69, 0.40, 0.49, 0.58, 0.48, 0.76,\n",
    "         0.22, 0.73, 0.50, 0.10, 0.21, 0.95, 0.64, 0.41, 0.13,\n",
    "         0.69, 0.48, 0.41, 0.08, 0.34, 0.14, 0.62, 0.71, 0.01,\n",
    "         0.70, 0.05, 0.37, 0.96, 0.26, 0.58, 0.88, 0.95, 0.05,\n",
    "         0.06, 0.51, 0.39, 0.61, 0.45, 0.42, 0.25, 0.69, 0.18,\n",
    "         0.66, 0.72, 0.33, 0.90, 0.78, 0.36, 0.37, 0.91, 0.15, ]\n",
    "\n",
    "r_cross = 0.9\n",
    "r_mut = 0.25"
   ]
  },
  {
   "cell_type": "code",
   "execution_count": 117,
   "metadata": {},
   "outputs": [
    {
     "data": {
      "text/plain": [
       "array([ 9, 10,  9, 10, 10,  9], dtype=int8)"
      ]
     },
     "execution_count": 117,
     "metadata": {},
     "output_type": "execute_result"
    }
   ],
   "source": [
    "a = pop_a\n",
    "b = pop_b\n",
    "#a = np.array([10, 10,  9], dtype=np.uint8) #pop_a\n",
    "#b = np.array([ 9,  9, 10], dtype=np.uint8)  #pop_b\n",
    "\n",
    "#np.array([0.59,0.89,0.80])\n",
    "#np.array([1,1,1])\n",
    "valor_de_alla = np.array([1, 2, 2])\n",
    "\n",
    "m=n_bits-valor_de_alla\n",
    "\n",
    "mask_a= (-1 << m)\n",
    "mask_b= ~(-1 << m) \n",
    "\n",
    "ab = (a & mask_a) | (b & mask_b) \n",
    "ba = (b & mask_a) | (a & mask_b)\n",
    "\n",
    "n_pop = np.stack((ab,ba), axis = 1,dtype=np.int8).flatten()\n",
    "n_pop"
   ]
  },
  {
   "cell_type": "code",
   "execution_count": 118,
   "metadata": {},
   "outputs": [
    {
     "name": "stdout",
     "output_type": "stream",
     "text": [
      "1001\n",
      "1010\n",
      "1001\n",
      "1010\n",
      "1010\n",
      "1001\n"
     ]
    }
   ],
   "source": [
    "for x in n_pop: # Comparar con resultado solamente\n",
    "    print(np.binary_repr( x  , width=4))"
   ]
  },
  {
   "cell_type": "code",
   "execution_count": 129,
   "metadata": {},
   "outputs": [],
   "source": [
    "mutaciones_4bits =np.array([ 0.96, 0.64, 0.86, 0.44, 0.70, 0.78, 0.96, 0.67,\n",
    "0.46, 0.34, 0.24, 0.80, 0.77, 0.11, 0.91, 0.69,\n",
    "0.50, 0.60, 0.18, 0.55, 0.39, 0.68, 0.21, 0.01,]) < r_mut\n",
    "\n",
    "#b= np.zeros(len(a),dtype=np.uint8)\n",
    "#c = np.stack((b,a), axis = 1).flatten()\n",
    "\n",
    "tmp_zeros= np.zeros(len(mutaciones_4bits),dtype=np.uint8).reshape((-1,n_bits))\n",
    "\n",
    "mutaciones_4bits= mutaciones_4bits.reshape((-1,4))\n"
   ]
  },
  {
   "cell_type": "code",
   "execution_count": 131,
   "metadata": {},
   "outputs": [
    {
     "data": {
      "text/plain": [
       "(array([0, 0, 0, 0, 0, 0, 0, 0, 0, 0, 0, 0, 0, 0, 0, 0, 0, 0, 0, 0, 0, 0,\n",
       "        1, 0, 0, 0, 0, 0, 0, 1, 0, 0, 0, 0, 0, 0, 0, 0, 1, 0, 0, 0, 0, 0,\n",
       "        0, 0, 1, 1], dtype=uint8),\n",
       " array([0, 0, 2, 4, 2, 3], dtype=uint8))"
      ]
     },
     "execution_count": 131,
     "metadata": {},
     "output_type": "execute_result"
    }
   ],
   "source": [
    "mutaciones_8bits = np.stack((tmp_zeros,mutaciones_4bits), axis = 1).flatten()\n",
    "mutaciones_int8 = np.packbits(mutaciones_8bits, axis=-1)\n",
    "mutaciones_8bits, mutaciones_int8"
   ]
  },
  {
   "cell_type": "code",
   "execution_count": 196,
   "metadata": {},
   "outputs": [
    {
     "data": {
      "text/plain": [
       "array([ 9, 10, 11, 14,  8, 10], dtype=int16)"
      ]
     },
     "execution_count": 196,
     "metadata": {},
     "output_type": "execute_result"
    }
   ],
   "source": [
    "n_pop_mutada = (n_pop | mutaciones_int8) & ~(n_pop & mutaciones_int8)\n",
    "n_pop_mutada"
   ]
  },
  {
   "cell_type": "code",
   "execution_count": 197,
   "metadata": {},
   "outputs": [],
   "source": [
    "def muestra_bits(areglo:np.array,n_bits=4):\n",
    "    for x in areglo: # Comparar con resultado solamente\n",
    "        print(np.binary_repr( x  , width=n_bits))"
   ]
  },
  {
   "cell_type": "code",
   "execution_count": 198,
   "metadata": {},
   "outputs": [
    {
     "name": "stdout",
     "output_type": "stream",
     "text": [
      "1001\n",
      "1010\n",
      "1001\n",
      "1010\n",
      "1010\n",
      "1001\n"
     ]
    }
   ],
   "source": [
    "muestra_bits(n_pop) # Comparar con resultado solamente"
   ]
  },
  {
   "cell_type": "code",
   "execution_count": 199,
   "metadata": {},
   "outputs": [
    {
     "name": "stdout",
     "output_type": "stream",
     "text": [
      "0000\n",
      "0000\n",
      "0010\n",
      "0100\n",
      "0010\n",
      "0011\n"
     ]
    }
   ],
   "source": [
    "muestra_bits(mutaciones_int8)\n",
    "    "
   ]
  },
  {
   "cell_type": "code",
   "execution_count": 200,
   "metadata": {},
   "outputs": [
    {
     "name": "stdout",
     "output_type": "stream",
     "text": [
      "1001\n",
      "1010\n",
      "1011\n",
      "1110\n",
      "1000\n",
      "1010\n"
     ]
    }
   ],
   "source": [
    "muestra_bits( n_pop_mutada)"
   ]
  },
  {
   "cell_type": "code",
   "execution_count": null,
   "metadata": {},
   "outputs": [],
   "source": []
  },
  {
   "cell_type": "code",
   "execution_count": null,
   "metadata": {},
   "outputs": [],
   "source": []
  },
  {
   "cell_type": "code",
   "execution_count": null,
   "metadata": {},
   "outputs": [],
   "source": []
  }
 ],
 "metadata": {
  "kernelspec": {
   "display_name": "Robotica_2023",
   "language": "python",
   "name": "robotica_2023"
  },
  "language_info": {
   "codemirror_mode": {
    "name": "ipython",
    "version": 3
   },
   "file_extension": ".py",
   "mimetype": "text/x-python",
   "name": "python",
   "nbconvert_exporter": "python",
   "pygments_lexer": "ipython3",
   "version": "3.11.4"
  },
  "orig_nbformat": 4
 },
 "nbformat": 4,
 "nbformat_minor": 2
}
